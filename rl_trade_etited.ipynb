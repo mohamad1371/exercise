{
  "nbformat": 4,
  "nbformat_minor": 0,
  "metadata": {
    "colab": {
      "name": "rl_trade_etited.ipynb",
      "provenance": [],
      "collapsed_sections": [],
      "include_colab_link": true
    },
    "kernelspec": {
      "name": "python3",
      "display_name": "Python 3"
    },
    "accelerator": "GPU"
  },
  "cells": [
    {
      "cell_type": "markdown",
      "metadata": {
        "id": "view-in-github",
        "colab_type": "text"
      },
      "source": [
        "<a href=\"https://colab.research.google.com/github/mohamad1371/exercise/blob/master/rl_trade_etited.ipynb\" target=\"_parent\"><img src=\"https://colab.research.google.com/assets/colab-badge.svg\" alt=\"Open In Colab\"/></a>"
      ]
    },
    {
      "cell_type": "code",
      "metadata": {
        "id": "F0anjoP3MFzV",
        "colab_type": "code",
        "colab": {
          "base_uri": "https://localhost:8080/",
          "height": 1000
        },
        "outputId": "728b99e9-c1ef-4bb9-efe9-8704cb7ab22c"
      },
      "source": [
        "!git init && git remote add origin https://github.com/notadamking/RLTrader.git && git pull origin master\n",
        "!pip install -r requirements.txt"
      ],
      "execution_count": 1,
      "outputs": [
        {
          "output_type": "stream",
          "text": [
            "Initialized empty Git repository in /content/.git/\n",
            "remote: Enumerating objects: 10, done.\u001b[K\n",
            "remote: Counting objects: 100% (10/10), done.\u001b[K\n",
            "remote: Compressing objects: 100% (9/9), done.\u001b[K\n",
            "remote: Total 1395 (delta 3), reused 1 (delta 0), pack-reused 1385\u001b[K\n",
            "Receiving objects: 100% (1395/1395), 17.29 MiB | 31.73 MiB/s, done.\n",
            "Resolving deltas: 100% (789/789), done.\n",
            "From https://github.com/notadamking/RLTrader\n",
            " * branch            master     -> FETCH_HEAD\n",
            " * [new branch]      master     -> origin/master\n",
            "Requirement already satisfied: numpy in /usr/local/lib/python3.6/dist-packages (from -r requirements.base.txt (line 1)) (1.17.4)\n",
            "Requirement already satisfied: pandas in /usr/local/lib/python3.6/dist-packages (from -r requirements.base.txt (line 2)) (0.25.3)\n",
            "Requirement already satisfied: sklearn in /usr/local/lib/python3.6/dist-packages (from -r requirements.base.txt (line 3)) (0.0)\n",
            "Requirement already satisfied: matplotlib in /usr/local/lib/python3.6/dist-packages (from -r requirements.base.txt (line 4)) (3.1.2)\n",
            "Requirement already satisfied: gym in /usr/local/lib/python3.6/dist-packages (from -r requirements.base.txt (line 5)) (0.15.4)\n",
            "Requirement already satisfied: stable_baselines in /usr/local/lib/python3.6/dist-packages (from -r requirements.base.txt (line 6)) (2.2.1)\n",
            "Collecting optuna\n",
            "\u001b[?25l  Downloading https://files.pythonhosted.org/packages/d4/6a/4d80b3014797cf318a5252afb27031e9e7502854fb7930f27db0ee10bb75/optuna-0.19.0.tar.gz (126kB)\n",
            "\u001b[K     |████████████████████████████████| 133kB 38.4MB/s \n",
            "\u001b[?25hCollecting ta\n",
            "  Downloading https://files.pythonhosted.org/packages/92/ba/5b69e3347a749f18110ceefdc8165aee12645b0c85f660db141828f72f5e/ta-0.5.11.tar.gz\n",
            "Collecting statsmodels==0.10.0rc2\n",
            "\u001b[?25l  Downloading https://files.pythonhosted.org/packages/ab/f5/6bb191bb31574f59b42ee10278a8d002e5be4055d41f9af86d682b8c63b6/statsmodels-0.10.0rc2-cp36-cp36m-manylinux1_x86_64.whl (8.1MB)\n",
            "\u001b[K     |████████████████████████████████| 8.1MB 45.4MB/s \n",
            "\u001b[?25hCollecting empyrical\n",
            "\u001b[?25l  Downloading https://files.pythonhosted.org/packages/84/9e/9506e8b25464ff57ef93b5ba9092b464b44dc76b717695b126b3c93214a2/empyrical-0.5.3.tar.gz (50kB)\n",
            "\u001b[K     |████████████████████████████████| 51kB 7.6MB/s \n",
            "\u001b[?25hCollecting ccxt\n",
            "\u001b[?25l  Downloading https://files.pythonhosted.org/packages/63/90/3cd4731e8b33c57e57d79ba9ae5c5042dad6976469f099906e858005ab03/ccxt-1.21.34-py2.py3-none-any.whl (1.4MB)\n",
            "\u001b[K     |████████████████████████████████| 1.5MB 58.9MB/s \n",
            "\u001b[?25hRequirement already satisfied: psycopg2 in /usr/local/lib/python3.6/dist-packages (from -r requirements.base.txt (line 12)) (2.7.6.1)\n",
            "Collecting configparser\n",
            "  Downloading https://files.pythonhosted.org/packages/7a/2a/95ed0501cf5d8709490b1d3a3f9b5cf340da6c433f896bbe9ce08dbe6785/configparser-4.0.2-py2.py3-none-any.whl\n",
            "Collecting quantstats>=0.0.17\n",
            "  Downloading https://files.pythonhosted.org/packages/69/6c/a21ac5ba329a9bfcb042e3b7d3c46b1c01d3da06b5571a732d2b530808a9/QuantStats-0.0.25.tar.gz\n",
            "Collecting tensorflow-gpu\n",
            "\u001b[?25l  Downloading https://files.pythonhosted.org/packages/25/44/47f0722aea081697143fbcf5d2aa60d1aee4aaacb5869aee2b568974777b/tensorflow_gpu-2.0.0-cp36-cp36m-manylinux2010_x86_64.whl (380.8MB)\n",
            "\u001b[K     |████████████████████████████████| 380.8MB 43kB/s \n",
            "\u001b[?25hRequirement already satisfied: pytz>=2017.2 in /usr/local/lib/python3.6/dist-packages (from pandas->-r requirements.base.txt (line 2)) (2018.9)\n",
            "Requirement already satisfied: python-dateutil>=2.6.1 in /usr/local/lib/python3.6/dist-packages (from pandas->-r requirements.base.txt (line 2)) (2.6.1)\n",
            "Requirement already satisfied: scikit-learn in /usr/local/lib/python3.6/dist-packages (from sklearn->-r requirements.base.txt (line 3)) (0.21.3)\n",
            "Requirement already satisfied: kiwisolver>=1.0.1 in /usr/local/lib/python3.6/dist-packages (from matplotlib->-r requirements.base.txt (line 4)) (1.1.0)\n",
            "Requirement already satisfied: cycler>=0.10 in /usr/local/lib/python3.6/dist-packages (from matplotlib->-r requirements.base.txt (line 4)) (0.10.0)\n",
            "Requirement already satisfied: pyparsing!=2.0.4,!=2.1.2,!=2.1.6,>=2.0.1 in /usr/local/lib/python3.6/dist-packages (from matplotlib->-r requirements.base.txt (line 4)) (2.4.5)\n",
            "Requirement already satisfied: six in /usr/local/lib/python3.6/dist-packages (from gym->-r requirements.base.txt (line 5)) (1.12.0)\n",
            "Requirement already satisfied: opencv-python in /usr/local/lib/python3.6/dist-packages (from gym->-r requirements.base.txt (line 5)) (4.1.2.30)\n",
            "Requirement already satisfied: scipy in /usr/local/lib/python3.6/dist-packages (from gym->-r requirements.base.txt (line 5)) (1.3.3)\n",
            "Requirement already satisfied: pyglet<=1.3.2,>=1.2.0 in /usr/local/lib/python3.6/dist-packages (from gym->-r requirements.base.txt (line 5)) (1.3.2)\n",
            "Requirement already satisfied: cloudpickle~=1.2.0 in /usr/local/lib/python3.6/dist-packages (from gym->-r requirements.base.txt (line 5)) (1.2.2)\n",
            "Requirement already satisfied: tqdm in /usr/local/lib/python3.6/dist-packages (from stable_baselines->-r requirements.base.txt (line 6)) (4.28.1)\n",
            "Requirement already satisfied: zmq in /usr/local/lib/python3.6/dist-packages (from stable_baselines->-r requirements.base.txt (line 6)) (0.0.0)\n",
            "Requirement already satisfied: click in /usr/local/lib/python3.6/dist-packages (from stable_baselines->-r requirements.base.txt (line 6)) (7.0)\n",
            "Requirement already satisfied: joblib in /usr/local/lib/python3.6/dist-packages (from stable_baselines->-r requirements.base.txt (line 6)) (0.14.1)\n",
            "Requirement already satisfied: progressbar2 in /usr/local/lib/python3.6/dist-packages (from stable_baselines->-r requirements.base.txt (line 6)) (3.38.0)\n",
            "Requirement already satisfied: dill in /usr/local/lib/python3.6/dist-packages (from stable_baselines->-r requirements.base.txt (line 6)) (0.3.1.1)\n",
            "Requirement already satisfied: seaborn in /usr/local/lib/python3.6/dist-packages (from stable_baselines->-r requirements.base.txt (line 6)) (0.9.0)\n",
            "Requirement already satisfied: mpi4py in /usr/local/lib/python3.6/dist-packages (from stable_baselines->-r requirements.base.txt (line 6)) (3.0.3)\n",
            "Requirement already satisfied: glob2 in /usr/local/lib/python3.6/dist-packages (from stable_baselines->-r requirements.base.txt (line 6)) (0.7)\n",
            "Requirement already satisfied: tensorflow>=1.5.0 in /usr/local/lib/python3.6/dist-packages (from stable_baselines->-r requirements.base.txt (line 6)) (1.15.0)\n",
            "Collecting alembic\n",
            "\u001b[?25l  Downloading https://files.pythonhosted.org/packages/dc/6d/3c1411dfdcf089ec89ce5e2222deb2292f39b6b1a5911222e15af9fe5a92/alembic-1.3.2.tar.gz (1.1MB)\n",
            "\u001b[K     |████████████████████████████████| 1.1MB 47.3MB/s \n",
            "\u001b[?25hCollecting cliff\n",
            "\u001b[?25l  Downloading https://files.pythonhosted.org/packages/69/f3/3e15cf215791f1fc32a33751fcddc3f142113e740f0b52efeadf617a559f/cliff-2.17.0-py2.py3-none-any.whl (77kB)\n",
            "\u001b[K     |████████████████████████████████| 81kB 12.5MB/s \n",
            "\u001b[?25hCollecting colorlog\n",
            "  Downloading https://files.pythonhosted.org/packages/00/0d/22c73c2eccb21dd3498df7d22c0b1d4a30f5a5fb3feb64e1ce06bc247747/colorlog-4.1.0-py2.py3-none-any.whl\n",
            "Requirement already satisfied: sqlalchemy>=1.1.0 in /usr/local/lib/python3.6/dist-packages (from optuna->-r requirements.base.txt (line 7)) (1.3.12)\n",
            "Requirement already satisfied: typing in /usr/local/lib/python3.6/dist-packages (from optuna->-r requirements.base.txt (line 7)) (3.6.6)\n",
            "Requirement already satisfied: patsy>=0.4.0 in /usr/local/lib/python3.6/dist-packages (from statsmodels==0.10.0rc2->-r requirements.base.txt (line 9)) (0.5.1)\n",
            "Requirement already satisfied: pandas-datareader>=0.2 in /usr/local/lib/python3.6/dist-packages (from empyrical->-r requirements.base.txt (line 10)) (0.7.4)\n",
            "Requirement already satisfied: setuptools>=38.5.1 in /usr/local/lib/python3.6/dist-packages (from ccxt->-r requirements.base.txt (line 11)) (42.0.2)\n",
            "Requirement already satisfied: certifi>=2018.1.18 in /usr/local/lib/python3.6/dist-packages (from ccxt->-r requirements.base.txt (line 11)) (2019.11.28)\n",
            "Collecting aiohttp==3.6.2; python_version >= \"3.5.2\"\n",
            "\u001b[?25l  Downloading https://files.pythonhosted.org/packages/7c/39/7eb5f98d24904e0f6d3edb505d4aa60e3ef83c0a58d6fe18244a51757247/aiohttp-3.6.2-cp36-cp36m-manylinux1_x86_64.whl (1.2MB)\n",
            "\u001b[K     |████████████████████████████████| 1.2MB 57.4MB/s \n",
            "\u001b[?25hRequirement already satisfied: requests>=2.18.4 in /usr/local/lib/python3.6/dist-packages (from ccxt->-r requirements.base.txt (line 11)) (2.21.0)\n",
            "Collecting cryptography>=2.6.1\n",
            "\u001b[?25l  Downloading https://files.pythonhosted.org/packages/ca/9a/7cece52c46546e214e10811b36b2da52ce1ea7fa203203a629b8dfadad53/cryptography-2.8-cp34-abi3-manylinux2010_x86_64.whl (2.3MB)\n",
            "\u001b[K     |████████████████████████████████| 2.3MB 49.3MB/s \n",
            "\u001b[?25hCollecting yarl==1.1.0; python_version >= \"3.5.2\"\n",
            "\u001b[?25l  Downloading https://files.pythonhosted.org/packages/9a/fe/1fc0d9e277f1ff0d29ac44742f769c55f12cc7e66a89ab340f5321937179/yarl-1.1.0-cp36-cp36m-manylinux1_x86_64.whl (255kB)\n",
            "\u001b[K     |████████████████████████████████| 256kB 56.7MB/s \n",
            "\u001b[?25hCollecting aiodns==1.1.1; python_version >= \"3.5.2\"\n",
            "  Downloading https://files.pythonhosted.org/packages/bd/f5/b69cb930fd5ab0569396659afe3f3c0d37d4098e5d0ba6afdf6fd9388cb0/aiodns-1.1.1-py2.py3-none-any.whl\n",
            "Requirement already satisfied: tabulate>=0.8.0 in /usr/local/lib/python3.6/dist-packages (from quantstats>=0.0.17->-r requirements.base.txt (line 14)) (0.8.6)\n",
            "Collecting yfinance>=0.1.44\n",
            "  Downloading https://files.pythonhosted.org/packages/c2/31/8b374a12b90def92a4e27d0fc595fc43635f395984e36a075244d98bd265/yfinance-0.1.54.tar.gz\n",
            "Requirement already satisfied: keras-applications>=1.0.8 in /usr/local/lib/python3.6/dist-packages (from tensorflow-gpu->-r requirements.txt (line 2)) (1.0.8)\n",
            "Requirement already satisfied: astor>=0.6.0 in /usr/local/lib/python3.6/dist-packages (from tensorflow-gpu->-r requirements.txt (line 2)) (0.8.1)\n",
            "Requirement already satisfied: termcolor>=1.1.0 in /usr/local/lib/python3.6/dist-packages (from tensorflow-gpu->-r requirements.txt (line 2)) (1.1.0)\n",
            "Requirement already satisfied: opt-einsum>=2.3.2 in /usr/local/lib/python3.6/dist-packages (from tensorflow-gpu->-r requirements.txt (line 2)) (3.1.0)\n",
            "Requirement already satisfied: google-pasta>=0.1.6 in /usr/local/lib/python3.6/dist-packages (from tensorflow-gpu->-r requirements.txt (line 2)) (0.1.8)\n",
            "Requirement already satisfied: protobuf>=3.6.1 in /usr/local/lib/python3.6/dist-packages (from tensorflow-gpu->-r requirements.txt (line 2)) (3.10.0)\n",
            "Collecting tensorflow-estimator<2.1.0,>=2.0.0\n",
            "\u001b[?25l  Downloading https://files.pythonhosted.org/packages/fc/08/8b927337b7019c374719145d1dceba21a8bb909b93b1ad6f8fb7d22c1ca1/tensorflow_estimator-2.0.1-py2.py3-none-any.whl (449kB)\n",
            "\u001b[K     |████████████████████████████████| 450kB 57.9MB/s \n",
            "\u001b[?25hRequirement already satisfied: wrapt>=1.11.1 in /usr/local/lib/python3.6/dist-packages (from tensorflow-gpu->-r requirements.txt (line 2)) (1.11.2)\n",
            "Requirement already satisfied: wheel>=0.26 in /usr/local/lib/python3.6/dist-packages (from tensorflow-gpu->-r requirements.txt (line 2)) (0.33.6)\n",
            "Requirement already satisfied: absl-py>=0.7.0 in /usr/local/lib/python3.6/dist-packages (from tensorflow-gpu->-r requirements.txt (line 2)) (0.8.1)\n",
            "Collecting tensorboard<2.1.0,>=2.0.0\n",
            "\u001b[?25l  Downloading https://files.pythonhosted.org/packages/76/54/99b9d5d52d5cb732f099baaaf7740403e83fe6b0cedde940fabd2b13d75a/tensorboard-2.0.2-py3-none-any.whl (3.8MB)\n",
            "\u001b[K     |████████████████████████████████| 3.8MB 66.1MB/s \n",
            "\u001b[?25hRequirement already satisfied: gast==0.2.2 in /usr/local/lib/python3.6/dist-packages (from tensorflow-gpu->-r requirements.txt (line 2)) (0.2.2)\n",
            "Requirement already satisfied: keras-preprocessing>=1.0.5 in /usr/local/lib/python3.6/dist-packages (from tensorflow-gpu->-r requirements.txt (line 2)) (1.1.0)\n",
            "Requirement already satisfied: grpcio>=1.8.6 in /usr/local/lib/python3.6/dist-packages (from tensorflow-gpu->-r requirements.txt (line 2)) (1.15.0)\n",
            "Requirement already satisfied: future in /usr/local/lib/python3.6/dist-packages (from pyglet<=1.3.2,>=1.2.0->gym->-r requirements.base.txt (line 5)) (0.16.0)\n",
            "Requirement already satisfied: pyzmq in /usr/local/lib/python3.6/dist-packages (from zmq->stable_baselines->-r requirements.base.txt (line 6)) (17.0.0)\n",
            "Requirement already satisfied: python-utils>=2.3.0 in /usr/local/lib/python3.6/dist-packages (from progressbar2->stable_baselines->-r requirements.base.txt (line 6)) (2.3.0)\n",
            "Collecting Mako\n",
            "\u001b[?25l  Downloading https://files.pythonhosted.org/packages/b0/3c/8dcd6883d009f7cae0f3157fb53e9afb05a0d3d33b3db1268ec2e6f4a56b/Mako-1.1.0.tar.gz (463kB)\n",
            "\u001b[K     |████████████████████████████████| 471kB 52.1MB/s \n",
            "\u001b[?25hCollecting python-editor>=0.3\n",
            "  Downloading https://files.pythonhosted.org/packages/c6/d3/201fc3abe391bbae6606e6f1d598c15d367033332bd54352b12f35513717/python_editor-1.0.4-py3-none-any.whl\n",
            "Requirement already satisfied: PyYAML>=3.10 in /usr/local/lib/python3.6/dist-packages (from cliff->optuna->-r requirements.base.txt (line 7)) (3.13)\n",
            "Collecting pbr!=2.1.0,>=2.0.0\n",
            "\u001b[?25l  Downloading https://files.pythonhosted.org/packages/7a/db/a968fd7beb9fe06901c1841cb25c9ccb666ca1b9a19b114d1bbedf1126fc/pbr-5.4.4-py2.py3-none-any.whl (110kB)\n",
            "\u001b[K     |████████████████████████████████| 112kB 51.1MB/s \n",
            "\u001b[?25hCollecting cmd2>=0.6.7\n",
            "\u001b[?25l  Downloading https://files.pythonhosted.org/packages/97/0d/822f97a4c17a034629f8f9a9f1d293e08c94239e4673f1f52f855b586fae/cmd2-0.9.22-py3-none-any.whl (105kB)\n",
            "\u001b[K     |████████████████████████████████| 112kB 56.7MB/s \n",
            "\u001b[?25hRequirement already satisfied: PrettyTable<0.8,>=0.7.1 in /usr/local/lib/python3.6/dist-packages (from cliff->optuna->-r requirements.base.txt (line 7)) (0.7.2)\n",
            "Collecting stevedore>=1.20.0\n",
            "\u001b[?25l  Downloading https://files.pythonhosted.org/packages/b1/e1/f5ddbd83f60b03f522f173c03e406c1bff8343f0232a292ac96aa633b47a/stevedore-1.31.0-py2.py3-none-any.whl (43kB)\n",
            "\u001b[K     |████████████████████████████████| 51kB 9.0MB/s \n",
            "\u001b[?25hRequirement already satisfied: lxml in /usr/local/lib/python3.6/dist-packages (from pandas-datareader>=0.2->empyrical->-r requirements.base.txt (line 10)) (4.2.6)\n",
            "Collecting idna-ssl>=1.0; python_version < \"3.7\"\n",
            "  Downloading https://files.pythonhosted.org/packages/46/03/07c4894aae38b0de52b52586b24bf189bb83e4ddabfe2e2c8f2419eec6f4/idna-ssl-1.1.0.tar.gz\n",
            "Requirement already satisfied: chardet<4.0,>=2.0 in /usr/local/lib/python3.6/dist-packages (from aiohttp==3.6.2; python_version >= \"3.5.2\"->ccxt->-r requirements.base.txt (line 11)) (3.0.4)\n",
            "Requirement already satisfied: typing-extensions>=3.6.5; python_version < \"3.7\" in /usr/local/lib/python3.6/dist-packages (from aiohttp==3.6.2; python_version >= \"3.5.2\"->ccxt->-r requirements.base.txt (line 11)) (3.6.6)\n",
            "Collecting async-timeout<4.0,>=3.0\n",
            "  Downloading https://files.pythonhosted.org/packages/e1/1e/5a4441be21b0726c4464f3f23c8b19628372f606755a9d2e46c187e65ec4/async_timeout-3.0.1-py3-none-any.whl\n",
            "Requirement already satisfied: attrs>=17.3.0 in /usr/local/lib/python3.6/dist-packages (from aiohttp==3.6.2; python_version >= \"3.5.2\"->ccxt->-r requirements.base.txt (line 11)) (19.3.0)\n",
            "Collecting multidict<5.0,>=4.5\n",
            "\u001b[?25l  Downloading https://files.pythonhosted.org/packages/24/d4/ce90c4376ed1bb34225419e11f649cfe5e95c56e64d5a8392d5e6e58bac6/multidict-4.7.3-cp36-cp36m-manylinux1_x86_64.whl (148kB)\n",
            "\u001b[K     |████████████████████████████████| 153kB 60.1MB/s \n",
            "\u001b[?25hRequirement already satisfied: urllib3<1.25,>=1.21.1 in /usr/local/lib/python3.6/dist-packages (from requests>=2.18.4->ccxt->-r requirements.base.txt (line 11)) (1.24.3)\n",
            "Requirement already satisfied: idna<2.9,>=2.5 in /usr/local/lib/python3.6/dist-packages (from requests>=2.18.4->ccxt->-r requirements.base.txt (line 11)) (2.8)\n",
            "Requirement already satisfied: cffi!=1.11.3,>=1.8 in /usr/local/lib/python3.6/dist-packages (from cryptography>=2.6.1->ccxt->-r requirements.base.txt (line 11)) (1.13.2)\n",
            "Collecting pycares>=1.0.0\n",
            "\u001b[?25l  Downloading https://files.pythonhosted.org/packages/86/06/a7b3f71c602bb487417da0060c988b039c7e63308e54f74a501012bd41be/pycares-3.1.0-cp36-cp36m-manylinux2010_x86_64.whl (226kB)\n",
            "\u001b[K     |████████████████████████████████| 235kB 61.3MB/s \n",
            "\u001b[?25hRequirement already satisfied: multitasking>=0.0.7 in /usr/local/lib/python3.6/dist-packages (from yfinance>=0.1.44->quantstats>=0.0.17->-r requirements.base.txt (line 14)) (0.0.9)\n",
            "Requirement already satisfied: h5py in /usr/local/lib/python3.6/dist-packages (from keras-applications>=1.0.8->tensorflow-gpu->-r requirements.txt (line 2)) (2.8.0)\n",
            "Requirement already satisfied: google-auth-oauthlib<0.5,>=0.4.1 in /usr/local/lib/python3.6/dist-packages (from tensorboard<2.1.0,>=2.0.0->tensorflow-gpu->-r requirements.txt (line 2)) (0.4.1)\n",
            "Requirement already satisfied: werkzeug>=0.11.15 in /usr/local/lib/python3.6/dist-packages (from tensorboard<2.1.0,>=2.0.0->tensorflow-gpu->-r requirements.txt (line 2)) (0.16.0)\n",
            "Requirement already satisfied: markdown>=2.6.8 in /usr/local/lib/python3.6/dist-packages (from tensorboard<2.1.0,>=2.0.0->tensorflow-gpu->-r requirements.txt (line 2)) (3.1.1)\n",
            "Collecting google-auth<2,>=1.6.3\n",
            "\u001b[?25l  Downloading https://files.pythonhosted.org/packages/36/f8/84b5771faec3eba9fe0c91c8c5896364a8ba08852c0dea5ad2025026dd95/google_auth-1.10.0-py2.py3-none-any.whl (76kB)\n",
            "\u001b[K     |████████████████████████████████| 81kB 12.2MB/s \n",
            "\u001b[?25hRequirement already satisfied: MarkupSafe>=0.9.2 in /usr/local/lib/python3.6/dist-packages (from Mako->alembic->optuna->-r requirements.base.txt (line 7)) (1.1.1)\n",
            "Requirement already satisfied: wcwidth>=0.1.7 in /usr/local/lib/python3.6/dist-packages (from cmd2>=0.6.7->cliff->optuna->-r requirements.base.txt (line 7)) (0.1.7)\n",
            "Collecting colorama>=0.3.7\n",
            "  Downloading https://files.pythonhosted.org/packages/c9/dc/45cdef1b4d119eb96316b3117e6d5708a08029992b2fee2c143c7a0a5cc5/colorama-0.4.3-py2.py3-none-any.whl\n",
            "Collecting pyperclip>=1.6\n",
            "  Downloading https://files.pythonhosted.org/packages/2d/0f/4eda562dffd085945d57c2d9a5da745cfb5228c02bc90f2c74bbac746243/pyperclip-1.7.0.tar.gz\n",
            "Requirement already satisfied: pycparser in /usr/local/lib/python3.6/dist-packages (from cffi!=1.11.3,>=1.8->cryptography>=2.6.1->ccxt->-r requirements.base.txt (line 11)) (2.19)\n",
            "Requirement already satisfied: requests-oauthlib>=0.7.0 in /usr/local/lib/python3.6/dist-packages (from google-auth-oauthlib<0.5,>=0.4.1->tensorboard<2.1.0,>=2.0.0->tensorflow-gpu->-r requirements.txt (line 2)) (1.3.0)\n",
            "Requirement already satisfied: rsa<4.1,>=3.1.4 in /usr/local/lib/python3.6/dist-packages (from google-auth<2,>=1.6.3->tensorboard<2.1.0,>=2.0.0->tensorflow-gpu->-r requirements.txt (line 2)) (4.0)\n",
            "Requirement already satisfied: cachetools<5.0,>=2.0.0 in /usr/local/lib/python3.6/dist-packages (from google-auth<2,>=1.6.3->tensorboard<2.1.0,>=2.0.0->tensorflow-gpu->-r requirements.txt (line 2)) (4.0.0)\n",
            "Requirement already satisfied: pyasn1-modules>=0.2.1 in /usr/local/lib/python3.6/dist-packages (from google-auth<2,>=1.6.3->tensorboard<2.1.0,>=2.0.0->tensorflow-gpu->-r requirements.txt (line 2)) (0.2.7)\n",
            "Requirement already satisfied: oauthlib>=3.0.0 in /usr/local/lib/python3.6/dist-packages (from requests-oauthlib>=0.7.0->google-auth-oauthlib<0.5,>=0.4.1->tensorboard<2.1.0,>=2.0.0->tensorflow-gpu->-r requirements.txt (line 2)) (3.1.0)\n",
            "Requirement already satisfied: pyasn1>=0.1.3 in /usr/local/lib/python3.6/dist-packages (from rsa<4.1,>=3.1.4->google-auth<2,>=1.6.3->tensorboard<2.1.0,>=2.0.0->tensorflow-gpu->-r requirements.txt (line 2)) (0.4.8)\n",
            "Building wheels for collected packages: optuna, ta, empyrical, quantstats, alembic, yfinance, Mako, idna-ssl, pyperclip\n",
            "  Building wheel for optuna (setup.py) ... \u001b[?25l\u001b[?25hdone\n",
            "  Created wheel for optuna: filename=optuna-0.19.0-cp36-none-any.whl size=170198 sha256=cfc7bf91562a4d9393173a8539a7c20710f864d92b96790d5a3cefd2009f7282\n",
            "  Stored in directory: /root/.cache/pip/wheels/49/bf/47/090a43457caeff74397397da1c98a8aaed685257c16a5ba1f0\n",
            "  Building wheel for ta (setup.py) ... \u001b[?25l\u001b[?25hdone\n",
            "  Created wheel for ta: filename=ta-0.5.11-cp36-none-any.whl size=23029 sha256=f67e1d6ccf0e12dcc2413b8778561e1d4ec3fe1192e1dcd57a52cd6c4b176853\n",
            "  Stored in directory: /root/.cache/pip/wheels/97/32/1d/cbc724a8ecaec6e426baf57ab8c4c2cdc687aadd7427280b1f\n",
            "  Building wheel for empyrical (setup.py) ... \u001b[?25l\u001b[?25hdone\n",
            "  Created wheel for empyrical: filename=empyrical-0.5.3-cp36-none-any.whl size=37089 sha256=359cf55a81350d0bc18e90a508f8921d946dc0b7073451a7d8cd4db55043783a\n",
            "  Stored in directory: /root/.cache/pip/wheels/10/a4/3b/951bd609878a82fd72b9ea23699daf1eaada4ff6f583152876\n",
            "  Building wheel for quantstats (setup.py) ... \u001b[?25l\u001b[?25hdone\n",
            "  Created wheel for quantstats: filename=QuantStats-0.0.25-py2.py3-none-any.whl size=36679 sha256=83a0e41460a64374ce4e09d34e358a566e8f1f2a5998b4f76740288a305847ca\n",
            "  Stored in directory: /root/.cache/pip/wheels/c6/6a/f7/742e00f4fd523ec4d6b9665f729f7ea1d26c15ae13445b1178\n",
            "  Building wheel for alembic (setup.py) ... \u001b[?25l\u001b[?25hdone\n",
            "  Created wheel for alembic: filename=alembic-1.3.2-py2.py3-none-any.whl size=151128 sha256=bbd4297789cf425479bfe97da2916efaca42e189a24085940949a1d6dedd598d\n",
            "  Stored in directory: /root/.cache/pip/wheels/5c/66/53/e0633382ac8625ab1c099db6a290d1b6b24f849a4666a57105\n",
            "  Building wheel for yfinance (setup.py) ... \u001b[?25l\u001b[?25hdone\n",
            "  Created wheel for yfinance: filename=yfinance-0.1.54-py2.py3-none-any.whl size=22411 sha256=1897198add8fce43c9352a5376ad1c457c3be095073a13ed08d041da0b1139a7\n",
            "  Stored in directory: /root/.cache/pip/wheels/f9/e3/5b/ec24dd2984b12d61e0abf26289746c2436a0e7844f26f2515c\n",
            "  Building wheel for Mako (setup.py) ... \u001b[?25l\u001b[?25hdone\n",
            "  Created wheel for Mako: filename=Mako-1.1.0-cp36-none-any.whl size=75363 sha256=b305d41fe23b171d41c1f1d9cc6f69c02caec29d648197290cd908794dc55f63\n",
            "  Stored in directory: /root/.cache/pip/wheels/98/32/7b/a291926643fc1d1e02593e0d9e247c5a866a366b8343b7aa27\n",
            "  Building wheel for idna-ssl (setup.py) ... \u001b[?25l\u001b[?25hdone\n",
            "  Created wheel for idna-ssl: filename=idna_ssl-1.1.0-cp36-none-any.whl size=3163 sha256=bab62ed0cfc7dd360580cfc24bbb1158c7c9b4e859eeda46e9daed0858f8350a\n",
            "  Stored in directory: /root/.cache/pip/wheels/d3/00/b3/32d613e19e08a739751dd6bf998cfed277728f8b2127ad4eb7\n",
            "  Building wheel for pyperclip (setup.py) ... \u001b[?25l\u001b[?25hdone\n",
            "  Created wheel for pyperclip: filename=pyperclip-1.7.0-cp36-none-any.whl size=8359 sha256=af246aa3868bd1b0413fc2c68279eab6d57fd959f08f72716142d159ec4cf1fa\n",
            "  Stored in directory: /root/.cache/pip/wheels/92/f0/ac/2ba2972034e98971c3654ece337ac61e546bdeb34ca960dc8c\n",
            "Successfully built optuna ta empyrical quantstats alembic yfinance Mako idna-ssl pyperclip\n",
            "\u001b[31mERROR: tensorflow 1.15.0 has requirement tensorboard<1.16.0,>=1.15.0, but you'll have tensorboard 2.0.2 which is incompatible.\u001b[0m\n",
            "\u001b[31mERROR: tensorflow 1.15.0 has requirement tensorflow-estimator==1.15.1, but you'll have tensorflow-estimator 2.0.1 which is incompatible.\u001b[0m\n",
            "\u001b[31mERROR: tensorboard 2.0.2 has requirement grpcio>=1.24.3, but you'll have grpcio 1.15.0 which is incompatible.\u001b[0m\n",
            "\u001b[31mERROR: google-colab 1.0.0 has requirement google-auth~=1.4.0, but you'll have google-auth 1.10.0 which is incompatible.\u001b[0m\n",
            "Installing collected packages: Mako, python-editor, alembic, pbr, colorama, pyperclip, cmd2, stevedore, cliff, colorlog, optuna, ta, statsmodels, empyrical, multidict, yarl, idna-ssl, async-timeout, aiohttp, cryptography, pycares, aiodns, ccxt, configparser, yfinance, quantstats, tensorflow-estimator, google-auth, tensorboard, tensorflow-gpu\n",
            "  Found existing installation: statsmodels 0.10.2\n",
            "    Uninstalling statsmodels-0.10.2:\n",
            "      Successfully uninstalled statsmodels-0.10.2\n",
            "  Found existing installation: tensorflow-estimator 1.15.1\n",
            "    Uninstalling tensorflow-estimator-1.15.1:\n",
            "      Successfully uninstalled tensorflow-estimator-1.15.1\n",
            "  Found existing installation: google-auth 1.4.2\n",
            "    Uninstalling google-auth-1.4.2:\n",
            "      Successfully uninstalled google-auth-1.4.2\n",
            "  Found existing installation: tensorboard 1.15.0\n",
            "    Uninstalling tensorboard-1.15.0:\n",
            "      Successfully uninstalled tensorboard-1.15.0\n",
            "Successfully installed Mako-1.1.0 aiodns-1.1.1 aiohttp-3.6.2 alembic-1.3.2 async-timeout-3.0.1 ccxt-1.21.34 cliff-2.17.0 cmd2-0.9.22 colorama-0.4.3 colorlog-4.1.0 configparser-4.0.2 cryptography-2.8 empyrical-0.5.3 google-auth-1.10.0 idna-ssl-1.1.0 multidict-4.7.3 optuna-0.19.0 pbr-5.4.4 pycares-3.1.0 pyperclip-1.7.0 python-editor-1.0.4 quantstats-0.0.25 statsmodels-0.10.0rc2 stevedore-1.31.0 ta-0.5.11 tensorboard-2.0.2 tensorflow-estimator-2.0.1 tensorflow-gpu-2.0.0 yarl-1.1.0 yfinance-0.1.54\n"
          ],
          "name": "stdout"
        },
        {
          "output_type": "display_data",
          "data": {
            "application/vnd.colab-display-data+json": {
              "pip_warning": {
                "packages": [
                  "google"
                ]
              }
            }
          },
          "metadata": {
            "tags": []
          }
        }
      ]
    },
    {
      "cell_type": "code",
      "metadata": {
        "id": "9XpZio1xTCrS",
        "colab_type": "code",
        "colab": {
          "base_uri": "https://localhost:8080/",
          "height": 321
        },
        "outputId": "f9726cda-05de-44ac-b45e-1540a20357ae"
      },
      "source": [
        "!python ./cli.py update-static-data"
      ],
      "execution_count": 8,
      "outputs": [
        {
          "output_type": "stream",
          "text": [
            "\u001b[1m \u001b[37m 2020-01-07 13:52:56,871 - __main__ - initialize_data - DEBUG - Initialized Features: ['Date', 'Open', 'High', 'Low', 'Close', 'Volume']\u001b[0m\n",
            "\u001b[32m[I 2020-01-07 13:52:56,912]\u001b[0m Using an existing study with name 'UnknownModel__UnknownPolicy__UnknownStrategy' instead of creating a new one.\u001b[0m\n",
            "\u001b[1m \u001b[37m 2020-01-07 13:52:56,919 - __main__ - initialize_optuna - DEBUG - Initialized Optuna:\u001b[0m\n",
            "\u001b[1m \u001b[37m 2020-01-07 13:52:56,976 - __main__ - initialize_optuna - DEBUG - No trials have been finished yet.\u001b[0m\n",
            "\u001b[1m \u001b[37m 2020-01-07 13:52:56,976 - __main__ - __init__ - DEBUG - Initialize RLTrader: UnknownModel__UnknownPolicy__UnknownStrategy\u001b[0m\n",
            ">> done:  {<Task finished coro=<save_url_to_csv() done, defined at /content/lib/cli/functions/update_data.py:13> result=             ...s x 8 columns]>, <Task finished coro=<save_url_to_csv() done, defined at /content/lib/cli/functions/update_data.py:13> result=             ...s x 8 columns]>}\n",
            ">> pending:  set()\n",
            "\u001b[0m[80bc668ca3fc:00559] *** Process received signal ***\n",
            "[80bc668ca3fc:00559] Signal: Segmentation fault (11)\n",
            "[80bc668ca3fc:00559] Signal code: Address not mapped (1)\n",
            "[80bc668ca3fc:00559] Failing at address: 0x7f619abbf20d\n",
            "[80bc668ca3fc:00559] [ 0] /lib/x86_64-linux-gnu/libpthread.so.0(+0x12890)[0x7f619d665890]\n",
            "[80bc668ca3fc:00559] [ 1] /lib/x86_64-linux-gnu/libc.so.6(getenv+0xa5)[0x7f619d2a4785]\n",
            "[80bc668ca3fc:00559] [ 2] /usr/lib/x86_64-linux-gnu/libtcmalloc.so.4(_ZN13TCMallocGuardD1Ev+0x34)[0x7f619db0fe44]\n",
            "[80bc668ca3fc:00559] [ 3] /lib/x86_64-linux-gnu/libc.so.6(__cxa_finalize+0xf5)[0x7f619d2a5615]\n",
            "[80bc668ca3fc:00559] [ 4] /usr/lib/x86_64-linux-gnu/libtcmalloc.so.4(+0x13cb3)[0x7f619db0dcb3]\n",
            "[80bc668ca3fc:00559] *** End of error message ***\n"
          ],
          "name": "stdout"
        }
      ]
    },
    {
      "cell_type": "code",
      "metadata": {
        "id": "z3nX1WjfO9g0",
        "colab_type": "code",
        "colab": {
          "base_uri": "https://localhost:8080/",
          "height": 33
        },
        "outputId": "7dcf8793-6ab7-4893-ca48-b0eb681995bb"
      },
      "source": [
        "!git clone --branch r1.13.0 --depth 1 https://github.com/tensorflow/models"
      ],
      "execution_count": 39,
      "outputs": [
        {
          "output_type": "stream",
          "text": [
            "fatal: destination path 'models' already exists and is not an empty directory.\n"
          ],
          "name": "stdout"
        }
      ]
    },
    {
      "cell_type": "code",
      "metadata": {
        "id": "3lz910amPvmE",
        "colab_type": "code",
        "colab": {
          "base_uri": "https://localhost:8080/",
          "height": 167
        },
        "outputId": "cffe51e3-7d71-4b12-baf9-9218a610765f"
      },
      "source": [
        "!tf_upgrade_v2 \\\n",
        "  --infile /usr/local/lib/python3.6/dist-packages/stable_baselines/ppo2/ppo2.py\\\n",
        "  --outfile /usr/local/lib/python3.6/dist-packages/stable_baselines/ppo2/ppo2.py"
      ],
      "execution_count": 38,
      "outputs": [
        {
          "output_type": "stream",
          "text": [
            "TensorFlow 2.0 Upgrade Script\n",
            "-----------------------------\n",
            "Converted 1 files\n",
            "Detected 0 issues that require attention\n",
            "--------------------------------------------------------------------------------\n",
            "\n",
            "\n",
            "Make sure to read the detailed log 'report.txt'\n",
            "\n"
          ],
          "name": "stdout"
        }
      ]
    },
    {
      "cell_type": "code",
      "metadata": {
        "id": "63kFzBdGecZK",
        "colab_type": "code",
        "colab": {
          "base_uri": "https://localhost:8080/",
          "height": 184
        },
        "outputId": "907f5efc-98fe-48de-e8c1-4717bdaf3d8c"
      },
      "source": [
        "!python /usr/local/lib/python3.6/dist-packages/stable_baselines/common/base_class.py"
      ],
      "execution_count": 36,
      "outputs": [
        {
          "output_type": "stream",
          "text": [
            "[80bc668ca3fc:03038] *** Process received signal ***\n",
            "[80bc668ca3fc:03038] Signal: Segmentation fault (11)\n",
            "[80bc668ca3fc:03038] Signal code: Address not mapped (1)\n",
            "[80bc668ca3fc:03038] Failing at address: 0x7f4325cf220d\n",
            "[80bc668ca3fc:03038] [ 0] /lib/x86_64-linux-gnu/libpthread.so.0(+0x12890)[0x7f4328798890]\n",
            "[80bc668ca3fc:03038] [ 1] /lib/x86_64-linux-gnu/libc.so.6(getenv+0xa5)[0x7f43283d7785]\n",
            "[80bc668ca3fc:03038] [ 2] /usr/lib/x86_64-linux-gnu/libtcmalloc.so.4(_ZN13TCMallocGuardD1Ev+0x34)[0x7f4328c42e44]\n",
            "[80bc668ca3fc:03038] [ 3] /lib/x86_64-linux-gnu/libc.so.6(__cxa_finalize+0xf5)[0x7f43283d8615]\n",
            "[80bc668ca3fc:03038] [ 4] /usr/lib/x86_64-linux-gnu/libtcmalloc.so.4(+0x13cb3)[0x7f4328c40cb3]\n",
            "[80bc668ca3fc:03038] *** End of error message ***\n"
          ],
          "name": "stdout"
        }
      ]
    },
    {
      "cell_type": "code",
      "metadata": {
        "id": "_WRMU3tlNRiu",
        "colab_type": "code",
        "colab": {
          "base_uri": "https://localhost:8080/",
          "height": 1000
        },
        "outputId": "bf9026a0-4243-45c6-f6b2-4f51de71aca0"
      },
      "source": [
        "!python cli.py optimize"
      ],
      "execution_count": 37,
      "outputs": [
        {
          "output_type": "stream",
          "text": [
            "\u001b[1m \u001b[37m 2020-01-07 14:48:11,629 - __main__ - initialize_data - DEBUG - Initialized Features: ['Date', 'Open', 'High', 'Low', 'Close', 'Volume']\u001b[0m\n",
            "\u001b[1m \u001b[37m 2020-01-07 14:48:11,630 - __main__ - initialize_data - DEBUG - Initialized Features: ['Date', 'Open', 'High', 'Low', 'Close', 'Volume']\u001b[0m\n",
            "\u001b[32m[I 2020-01-07 14:48:47,106]\u001b[0m Using an existing study with name 'PPO2__MlpLnLstmPolicy__IncrementalProfit' instead of creating a new one.\u001b[0m\n",
            "\u001b[1m \u001b[37m 2020-01-07 14:48:47,116 - __main__ - initialize_optuna - DEBUG - Initialized Optuna:\u001b[0m\n",
            "\u001b[32m[I 2020-01-07 14:48:47,127]\u001b[0m Using an existing study with name 'PPO2__MlpLnLstmPolicy__IncrementalProfit' instead of creating a new one.\u001b[0m\n",
            "\u001b[1m \u001b[37m 2020-01-07 14:48:47,136 - __main__ - initialize_optuna - DEBUG - Initialized Optuna:\u001b[0m\n",
            "\u001b[1m \u001b[37m 2020-01-07 14:48:54,510 - __main__ - initialize_optuna - DEBUG - Best reward in (564) trials: -57.909999999999854\u001b[0m\n",
            "\u001b[1m \u001b[37m 2020-01-07 14:48:54,530 - __main__ - initialize_optuna - DEBUG - Best reward in (564) trials: -57.909999999999854\u001b[0m\n",
            "\u001b[1m \u001b[37m 2020-01-07 14:48:54,651 - __main__ - __init__ - DEBUG - Initialize RLTrader: PPO2__MlpLnLstmPolicy__IncrementalProfit\u001b[0m\n",
            "\u001b[1m \u001b[37m 2020-01-07 14:48:54,665 - __main__ - __init__ - DEBUG - Initialize RLTrader: PPO2__MlpLnLstmPolicy__IncrementalProfit\u001b[0m\n",
            "\u001b[33m[W 2020-01-07 14:55:16,276]\u001b[0m Setting status of trial#564 as TrialState.FAIL because of the following error: AttributeError(\"'ResourceSummaryWriter' object has no attribute 'add_summary'\",)\n",
            "Traceback (most recent call last):\n",
            "  File \"/usr/local/lib/python3.6/dist-packages/optuna/study.py\", line 539, in _run_trial\n",
            "    result = func(trial)\n",
            "  File \"/content/lib/RLTrader.py\", line 153, in optimize_params\n",
            "    model.learn(n_steps_per_eval)\n",
            "  File \"/usr/local/lib/python3.6/dist-packages/stable_baselines/ppo2/ppo2.py\", line 307, in learn\n",
            "    writer=writer, states=mb_states))\n",
            "  File \"/usr/local/lib/python3.6/dist-packages/stable_baselines/ppo2/ppo2.py\", line 250, in _train_step\n",
            "    writer.add_summary(summary, (update * update_fac))\n",
            "AttributeError: 'ResourceSummaryWriter' object has no attribute 'add_summary'\u001b[0m\n",
            "Process Process-2:\n",
            "Traceback (most recent call last):\n",
            "  File \"/usr/lib/python3.6/multiprocessing/process.py\", line 258, in _bootstrap\n",
            "    self.run()\n",
            "  File \"/usr/lib/python3.6/multiprocessing/process.py\", line 93, in run\n",
            "    self._target(*self._args, **self._kwargs)\n",
            "  File \"cli.py\", line 23, in run_optimize\n",
            "    trader.optimize(n_trials=args.trials)\n",
            "  File \"/content/lib/RLTrader.py\", line 190, in optimize\n",
            "    self.optuna_study.optimize(self.optimize_params, n_trials=n_trials, n_jobs=1)\n",
            "  File \"/usr/local/lib/python3.6/dist-packages/optuna/study.py\", line 261, in optimize\n",
            "    gc_after_trial)\n",
            "  File \"/usr/local/lib/python3.6/dist-packages/optuna/study.py\", line 443, in _optimize_sequential\n",
            "    self._run_trial_and_callbacks(func, catch, callbacks, gc_after_trial)\n",
            "  File \"/usr/local/lib/python3.6/dist-packages/optuna/study.py\", line 520, in _run_trial_and_callbacks\n",
            "    trial = self._run_trial(func, catch, gc_after_trial)\n",
            "  File \"/usr/local/lib/python3.6/dist-packages/optuna/study.py\", line 539, in _run_trial\n",
            "    result = func(trial)\n",
            "  File \"/content/lib/RLTrader.py\", line 153, in optimize_params\n",
            "    model.learn(n_steps_per_eval)\n",
            "  File \"/usr/local/lib/python3.6/dist-packages/stable_baselines/ppo2/ppo2.py\", line 307, in learn\n",
            "    writer=writer, states=mb_states))\n",
            "  File \"/usr/local/lib/python3.6/dist-packages/stable_baselines/ppo2/ppo2.py\", line 250, in _train_step\n",
            "    writer.add_summary(summary, (update * update_fac))\n",
            "AttributeError: 'ResourceSummaryWriter' object has no attribute 'add_summary'\n",
            "[80bc668ca3fc:03064] *** Process received signal ***\n",
            "[80bc668ca3fc:03064] Signal: Segmentation fault (11)\n",
            "[80bc668ca3fc:03064] Signal code: Address not mapped (1)\n",
            "[80bc668ca3fc:03064] Failing at address: 0x7f514c19520d\n",
            "[80bc668ca3fc:03064] [ 0] /lib/x86_64-linux-gnu/libpthread.so.0(+0x12890)[0x7f514ec3b890]\n",
            "[80bc668ca3fc:03064] [ 1] /lib/x86_64-linux-gnu/libc.so.6(getenv+0xa5)[0x7f514e87a785]\n",
            "[80bc668ca3fc:03064] [ 2] /usr/lib/x86_64-linux-gnu/libtcmalloc.so.4(_ZN13TCMallocGuardD1Ev+0x34)[0x7f514f0e5e44]\n",
            "[80bc668ca3fc:03064] [ 3] /lib/x86_64-linux-gnu/libc.so.6(__cxa_finalize+0xf5)[0x7f514e87b615]\n",
            "[80bc668ca3fc:03064] [ 4] /usr/lib/x86_64-linux-gnu/libtcmalloc.so.4(+0x13cb3)[0x7f514f0e3cb3]\n",
            "[80bc668ca3fc:03064] *** End of error message ***\n",
            "\u001b[33m[W 2020-01-07 14:55:22,312]\u001b[0m Setting status of trial#565 as TrialState.FAIL because of the following error: AttributeError(\"'ResourceSummaryWriter' object has no attribute 'add_summary'\",)\n",
            "Traceback (most recent call last):\n",
            "  File \"/usr/local/lib/python3.6/dist-packages/optuna/study.py\", line 539, in _run_trial\n",
            "    result = func(trial)\n",
            "  File \"/content/lib/RLTrader.py\", line 153, in optimize_params\n",
            "    model.learn(n_steps_per_eval)\n",
            "  File \"/usr/local/lib/python3.6/dist-packages/stable_baselines/ppo2/ppo2.py\", line 307, in learn\n",
            "    writer=writer, states=mb_states))\n",
            "  File \"/usr/local/lib/python3.6/dist-packages/stable_baselines/ppo2/ppo2.py\", line 250, in _train_step\n",
            "    writer.add_summary(summary, (update * update_fac))\n",
            "AttributeError: 'ResourceSummaryWriter' object has no attribute 'add_summary'\u001b[0m\n",
            "Process Process-1:\n",
            "Traceback (most recent call last):\n",
            "  File \"/usr/lib/python3.6/multiprocessing/process.py\", line 258, in _bootstrap\n",
            "    self.run()\n",
            "  File \"/usr/lib/python3.6/multiprocessing/process.py\", line 93, in run\n",
            "    self._target(*self._args, **self._kwargs)\n",
            "  File \"cli.py\", line 23, in run_optimize\n",
            "    trader.optimize(n_trials=args.trials)\n",
            "  File \"/content/lib/RLTrader.py\", line 190, in optimize\n",
            "    self.optuna_study.optimize(self.optimize_params, n_trials=n_trials, n_jobs=1)\n",
            "  File \"/usr/local/lib/python3.6/dist-packages/optuna/study.py\", line 261, in optimize\n",
            "    gc_after_trial)\n",
            "  File \"/usr/local/lib/python3.6/dist-packages/optuna/study.py\", line 443, in _optimize_sequential\n",
            "    self._run_trial_and_callbacks(func, catch, callbacks, gc_after_trial)\n",
            "  File \"/usr/local/lib/python3.6/dist-packages/optuna/study.py\", line 520, in _run_trial_and_callbacks\n",
            "    trial = self._run_trial(func, catch, gc_after_trial)\n",
            "  File \"/usr/local/lib/python3.6/dist-packages/optuna/study.py\", line 539, in _run_trial\n",
            "    result = func(trial)\n",
            "  File \"/content/lib/RLTrader.py\", line 153, in optimize_params\n",
            "    model.learn(n_steps_per_eval)\n",
            "  File \"/usr/local/lib/python3.6/dist-packages/stable_baselines/ppo2/ppo2.py\", line 307, in learn\n",
            "    writer=writer, states=mb_states))\n",
            "  File \"/usr/local/lib/python3.6/dist-packages/stable_baselines/ppo2/ppo2.py\", line 250, in _train_step\n",
            "    writer.add_summary(summary, (update * update_fac))\n",
            "AttributeError: 'ResourceSummaryWriter' object has no attribute 'add_summary'\n",
            "[80bc668ca3fc:03063] *** Process received signal ***\n",
            "[80bc668ca3fc:03063] Signal: Segmentation fault (11)\n",
            "[80bc668ca3fc:03063] Signal code: Address not mapped (1)\n",
            "[80bc668ca3fc:03063] Failing at address: 0x7fe6d288320d\n",
            "[80bc668ca3fc:03063] [ 0] /lib/x86_64-linux-gnu/libpthread.so.0(+0x12890)[0x7fe6d5329890]\n",
            "[80bc668ca3fc:03063] [ 1] /lib/x86_64-linux-gnu/libc.so.6(getenv+0xa5)[0x7fe6d4f68785]\n",
            "[80bc668ca3fc:03063] [ 2] /usr/lib/x86_64-linux-gnu/libtcmalloc.so.4(_ZN13TCMallocGuardD1Ev+0x34)[0x7fe6d57d3e44]\n",
            "[80bc668ca3fc:03063] [ 3] /lib/x86_64-linux-gnu/libc.so.6(__cxa_finalize+0xf5)[0x7fe6d4f69615]\n",
            "[80bc668ca3fc:03063] [ 4] /usr/lib/x86_64-linux-gnu/libtcmalloc.so.4(+0x13cb3)[0x7fe6d57d1cb3]\n",
            "[80bc668ca3fc:03063] *** End of error message ***\n",
            "\u001b[1m \u001b[37m 2020-01-07 14:55:26,320 - __main__ - initialize_data - DEBUG - Initialized Features: ['Date', 'Open', 'High', 'Low', 'Close', 'Volume']\u001b[0m\n",
            "\u001b[32m[I 2020-01-07 14:55:49,384]\u001b[0m Using an existing study with name 'PPO2__MlpLnLstmPolicy__IncrementalProfit' instead of creating a new one.\u001b[0m\n",
            "\u001b[1m \u001b[37m 2020-01-07 14:55:49,391 - __main__ - initialize_optuna - DEBUG - Initialized Optuna:\u001b[0m\n",
            "\u001b[1m \u001b[37m 2020-01-07 14:55:53,688 - __main__ - initialize_optuna - DEBUG - Best reward in (566) trials: -57.909999999999854\u001b[0m\n",
            "\u001b[1m \u001b[37m 2020-01-07 14:55:53,768 - __main__ - __init__ - DEBUG - Initialize RLTrader: PPO2__MlpLnLstmPolicy__IncrementalProfit\u001b[0m\n",
            "\u001b[0m[80bc668ca3fc:03263] *** Process received signal ***\n",
            "[80bc668ca3fc:03263] Signal: Segmentation fault (11)\n",
            "[80bc668ca3fc:03263] Signal code: Address not mapped (1)\n",
            "[80bc668ca3fc:03263] Failing at address: 0x7f675b0cf20d\n",
            "[80bc668ca3fc:03263] [ 0] /lib/x86_64-linux-gnu/libpthread.so.0(+0x12890)[0x7f675db75890]\n",
            "[80bc668ca3fc:03263] [ 1] /lib/x86_64-linux-gnu/libc.so.6(getenv+0xa5)[0x7f675d7b4785]\n",
            "[80bc668ca3fc:03263] [ 2] /usr/lib/x86_64-linux-gnu/libtcmalloc.so.4(_ZN13TCMallocGuardD1Ev+0x34)[0x7f675e01fe44]\n",
            "[80bc668ca3fc:03263] [ 3] /lib/x86_64-linux-gnu/libc.so.6(__cxa_finalize+0xf5)[0x7f675d7b5615]\n",
            "[80bc668ca3fc:03263] [ 4] /usr/lib/x86_64-linux-gnu/libtcmalloc.so.4(+0x13cb3)[0x7f675e01dcb3]\n",
            "[80bc668ca3fc:03263] *** End of error message ***\n"
          ],
          "name": "stdout"
        }
      ]
    },
    {
      "cell_type": "code",
      "metadata": {
        "id": "zLUBxrJgYrof",
        "colab_type": "code",
        "colab": {}
      },
      "source": [
        ""
      ],
      "execution_count": 0,
      "outputs": []
    }
  ]
}